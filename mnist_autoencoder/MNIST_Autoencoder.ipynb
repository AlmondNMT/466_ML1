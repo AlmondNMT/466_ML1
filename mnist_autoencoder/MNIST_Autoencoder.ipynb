{
 "cells": [
  {
   "cell_type": "code",
   "execution_count": 2,
   "metadata": {
    "id": "kSgM5Ty-2NJI"
   },
   "outputs": [
    {
     "name": "stderr",
     "output_type": "stream",
     "text": [
      "2022-11-15 16:10:30.484439: I tensorflow/core/util/util.cc:169] oneDNN custom operations are on. You may see slightly different numerical results due to floating-point round-off errors from different computation orders. To turn them off, set the environment variable `TF_ENABLE_ONEDNN_OPTS=0`.\n",
      "2022-11-15 16:10:30.502544: W tensorflow/stream_executor/platform/default/dso_loader.cc:64] Could not load dynamic library 'libcudart.so.11.0'; dlerror: libcudart.so.11.0: cannot open shared object file: No such file or directory\n",
      "2022-11-15 16:10:30.502554: I tensorflow/stream_executor/cuda/cudart_stub.cc:29] Ignore above cudart dlerror if you do not have a GPU set up on your machine.\n"
     ]
    }
   ],
   "source": [
    "import numpy as np\n",
    "import pandas as pd\n",
    "from PIL import Image\n",
    "import tensorflow as tf\n",
    "from tensorflow.keras.layers import Conv2D, Dense, MaxPool2D, Flatten, Reshape"
   ]
  },
  {
   "cell_type": "markdown",
   "metadata": {
    "id": "ZFhRGqye--Bq"
   },
   "source": [
    "# Data Preprocessing"
   ]
  },
  {
   "cell_type": "code",
   "execution_count": 3,
   "metadata": {
    "id": "Yme8xGkn2PXX"
   },
   "outputs": [],
   "source": [
    "(X_train, y_train), (X_test, y_test) = tf.keras.datasets.mnist.load_data()\n",
    "X_train = X_train.reshape(X_train.shape[0], 28, 28, 1) / 255.0\n",
    "X_test = X_test.reshape(X_test.shape[0], 28, 28, 1) / 255.0\n"
   ]
  },
  {
   "cell_type": "markdown",
   "metadata": {
    "id": "TgjMrEqQ_-FV"
   },
   "source": [
    "# Model Architecture"
   ]
  },
  {
   "cell_type": "code",
   "execution_count": 141,
   "metadata": {
    "colab": {
     "base_uri": "https://localhost:8080/"
    },
    "id": "lAZmfbdi2ls3",
    "outputId": "56369e12-f3ee-45a4-a8cd-ddbd2271f099"
   },
   "outputs": [
    {
     "name": "stdout",
     "output_type": "stream",
     "text": [
      "Epoch 1/5\n",
      "1200/1200 [==============================] - 21s 18ms/step - loss: 0.0202 - accuracy: 0.8090 - val_loss: 0.0088 - val_accuracy: 0.8152\n",
      "Epoch 2/5\n",
      "1200/1200 [==============================] - 23s 19ms/step - loss: 0.0075 - accuracy: 0.8146 - val_loss: 0.0067 - val_accuracy: 0.8156\n",
      "Epoch 3/5\n",
      "1200/1200 [==============================] - 24s 20ms/step - loss: 0.0062 - accuracy: 0.8149 - val_loss: 0.0059 - val_accuracy: 0.8158\n",
      "Epoch 4/5\n",
      "1200/1200 [==============================] - 27s 22ms/step - loss: 0.0056 - accuracy: 0.8149 - val_loss: 0.0055 - val_accuracy: 0.8158\n",
      "Epoch 5/5\n",
      "1200/1200 [==============================] - 25s 21ms/step - loss: 0.0052 - accuracy: 0.8150 - val_loss: 0.0052 - val_accuracy: 0.8158\n",
      "313/313 [==============================] - 3s 9ms/step - loss: 27.0744 - accuracy: 0.0997\n"
     ]
    },
    {
     "data": {
      "text/plain": [
       "[27.074420928955078, 0.09974931925535202]"
      ]
     },
     "execution_count": 141,
     "metadata": {},
     "output_type": "execute_result"
    }
   ],
   "source": [
    "model = tf.keras.models.Sequential()\n",
    "model.add(Conv2D(64, (5, 5), input_shape=(28, 28, 1), activation=\"relu\"))\n",
    "model.add(MaxPool2D((2, 2)))\n",
    "model.add(Conv2D(60, (5, 5), activation=\"relu\"))\n",
    "model.add(Flatten())\n",
    "model.add(Dense(100, activation=\"relu\"))\n",
    "model.add(Dense(28 * 28, activation=\"sigmoid\"))\n",
    "model.add(Reshape((28, 28, 1), input_shape=(28 ** 2,)))\n",
    "model.compile(optimizer=\"adam\", metrics=[\"accuracy\"], loss=\"MSE\")\n",
    "model.fit(X_train, X_train, batch_size=40, epochs=5, validation_split=0.2, shuffle=True)\n",
    "model.evaluate(X_test, y_test)"
   ]
  },
  {
   "cell_type": "markdown",
   "metadata": {},
   "source": [
    "# Test Accuracy"
   ]
  },
  {
   "cell_type": "code",
   "execution_count": null,
   "metadata": {
    "colab": {
     "base_uri": "https://localhost:8080/"
    },
    "id": "7Nfhl1_NFO-J",
    "outputId": "faac3485-3909-4d3a-fbd4-3eddd3898671"
   },
   "outputs": [
    {
     "name": "stdout",
     "output_type": "stream",
     "text": [
      "313/313 [==============================] - 7s 22ms/step - loss: 0.0376 - accuracy: 0.8010\n"
     ]
    },
    {
     "data": {
      "text/plain": [
       "[0.03764659911394119, 0.8010439872741699]"
      ]
     },
     "execution_count": 72,
     "metadata": {},
     "output_type": "execute_result"
    }
   ],
   "source": [
    "model.evaluate(X_test, X_test)"
   ]
  },
  {
   "cell_type": "markdown",
   "metadata": {},
   "source": [
    "# Prediction"
   ]
  },
  {
   "cell_type": "code",
   "execution_count": 142,
   "metadata": {
    "colab": {
     "base_uri": "https://localhost:8080/"
    },
    "id": "kZCM6SYZHc4V",
    "outputId": "819ba995-09fe-4884-b0e1-db23c3556de6"
   },
   "outputs": [
    {
     "name": "stdout",
     "output_type": "stream",
     "text": [
      "313/313 [==============================] - 2s 6ms/step\n"
     ]
    }
   ],
   "source": [
    "pred = model.predict(X_test)"
   ]
  },
  {
   "cell_type": "code",
   "execution_count": 198,
   "metadata": {
    "colab": {
     "base_uri": "https://localhost:8080/",
     "height": 705
    },
    "id": "ly_cuSoEcz9B",
    "outputId": "ef9db599-1136-4448-95f9-1ae3f146770f"
   },
   "outputs": [
    {
     "name": "stdout",
     "output_type": "stream",
     "text": [
      "Model: \"sequential_2\"\n",
      "_________________________________________________________________\n",
      " Layer (type)                Output Shape              Param #   \n",
      "=================================================================\n",
      " conv2d_4 (Conv2D)           (None, 24, 24, 64)        1664      \n",
      "                                                                 \n",
      " max_pooling2d_2 (MaxPooling  (None, 12, 12, 64)       0         \n",
      " 2D)                                                             \n",
      "                                                                 \n",
      " conv2d_5 (Conv2D)           (None, 8, 8, 60)          96060     \n",
      "                                                                 \n",
      " flatten_2 (Flatten)         (None, 3840)              0         \n",
      "                                                                 \n",
      " dense_4 (Dense)             (None, 100)               384100    \n",
      "                                                                 \n",
      " dense_5 (Dense)             (None, 784)               79184     \n",
      "                                                                 \n",
      " reshape_2 (Reshape)         (None, 28, 28, 1)         0         \n",
      "                                                                 \n",
      "=================================================================\n",
      "Total params: 561,008\n",
      "Trainable params: 561,008\n",
      "Non-trainable params: 0\n",
      "_________________________________________________________________\n",
      "None\n",
      "2\n",
      "Original\n"
     ]
    },
    {
     "data": {
      "image/png": "[encoded data removed]",
      "text/plain": [
       "<PIL.Image.Image image mode=L size=100x100>"
      ]
     },
     "metadata": {},
     "output_type": "display_data"
    },
    {
     "name": "stdout",
     "output_type": "stream",
     "text": [
      "Decoded\n"
     ]
    },
    {
     "data": {
      "image/png": "[encoded data removed]",
      "text/plain": [
       "<PIL.Image.Image image mode=L size=100x100>"
      ]
     },
     "metadata": {},
     "output_type": "display_data"
    }
   ],
   "source": [
    "print(model.summary())\n",
    "index = np.random.randint(0, len(pred))\n",
    "print(y_test[index])\n",
    "orig_img = Image.fromarray(X_test[index].reshape(28, 28) * 255).convert(\"L\").resize((100, 100), Image.Resampling.BICUBIC)\n",
    "decoded = Image.fromarray(pred[index].reshape(28, 28) * 255).convert(\"L\").resize((100, 100), Image.Resampling.BICUBIC)\n",
    "print(\"Original\")\n",
    "display(orig_img)\n",
    "print(\"Decoded\")\n",
    "display(decoded)"
   ]
  },
  {
   "cell_type": "code",
   "execution_count": null,
   "metadata": {
    "id": "dAglEonSdd2P"
   },
   "outputs": [],
   "source": []
  }
 ],
 "metadata": {
  "colab": {
   "provenance": []
  },
  "kernelspec": {
   "display_name": "Python 3 (ipykernel)",
   "language": "python",
   "name": "python3"
  },
  "language_info": {
   "codemirror_mode": {
    "name": "ipython",
    "version": 3
   },
   "file_extension": ".py",
   "mimetype": "text/x-python",
   "name": "python",
   "nbconvert_exporter": "python",
   "pygments_lexer": "ipython3",
   "version": "3.8.10"
  }
 },
 "nbformat": 4,
 "nbformat_minor": 4
}
